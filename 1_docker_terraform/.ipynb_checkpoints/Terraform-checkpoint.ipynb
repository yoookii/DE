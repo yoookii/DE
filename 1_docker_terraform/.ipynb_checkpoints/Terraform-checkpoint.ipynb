{
 "cells": [
  {
   "cell_type": "markdown",
   "id": "0e4f3ede-c3bd-42f2-a926-60751e064275",
   "metadata": {},
   "source": [
    "# **remember to `terraform apply` after modify main.tf**"
   ]
  },
  {
   "cell_type": "markdown",
   "id": "1183145b-fa65-43c3-a8e7-c3ddc69044a2",
   "metadata": {},
   "source": [
    "1. Google CLoud dashboard \n",
    "   * project info \n",
    "       * project name , project number, project id\n",
    "   * IAM & admin\n",
    "       * service accounts\n",
    "       * add roles\n",
    "       * add keys -> json\n",
    "2. vscode\n",
    "   * **extension: Terraform**\n",
    "   * **create main.tf file**\n",
    "       * How to use provider\n",
    "           * terraform {\n",
    "              required_providers {\n",
    "                google = {\n",
    "                  source = \"hashicorp/google\"\n",
    "                  version = \"5.35.0\"\n",
    "                }\n",
    "              }\n",
    "            }\n",
    "           * provider \"google\" {\n",
    "                      project     = \"my-project-id\"\n",
    "                      region      = \"us-central1\" }\n",
    "           * cmd: export GOOGLE_CREDENTTIASL=\"path\"\n",
    "           * cmd: terraform init\n",
    "    * **cloud storage buckets**\n",
    "        * https://registry.terraform.io/providers/hashicorp/google/latest/docs/resources/storage_bucket \n",
    "        * resource \"google_storage_bucket\" \"auto-expire\" {\n",
    "              name          = \"auto-expiring-bucket\"\n",
    "              location      = \"US\"\n",
    "              force_destroy = true\n",
    "            \n",
    "              lifecycle_rule {\n",
    "                condition {\n",
    "                  age = 3\n",
    "                }\n",
    "                action {\n",
    "                  type = \"Delete\"\n",
    "                }\n",
    "              }\n",
    "            \n",
    "              lifecycle_rule {\n",
    "                condition {\n",
    "                  age = 1\n",
    "                }\n",
    "                action {\n",
    "                  type = \"AbortIncompleteMultipartUpload\"\n",
    "                }\n",
    "              }\n",
    "            }\n",
    "    * **terraform plan**\n",
    "        * create an execution plan, preview the changes that Terraform plans to make to infrastructure\n",
    "    * **terraform apply**\n",
    "        * apply the plan\n",
    "        * terraform.tfstate\n",
    "            * include info like version, names, resources\n",
    "    * **terraform destroy**\n",
    "        * destroy buckets\n",
    "        * terraform.tfstate.backup file will be created \n",
    "    * **terraform gitignore**\n",
    "        * https://github.com/github/gitignore/blob/main/Terraform.gitignore\n",
    "        * ensure no sensitive info is pushed\n",
    "    * **google bigquery dateset**\n",
    "        * https://registry.terraform.io/providers/hashicorp/google/latest/docs/resources/bigquery_table"
   ]
  },
  {
   "cell_type": "markdown",
   "id": "e5623ff7-7175-47fd-8336-65a3c07e0d5d",
   "metadata": {},
   "source": [
    "3. create `variables.tf` file\n",
    "   * variable \"bq_dataset_name\" {}\n",
    "   * replace hard-coded value in `main.tf` with variables "
   ]
  }
 ],
 "metadata": {
  "kernelspec": {
   "display_name": "Python 3 (ipykernel)",
   "language": "python",
   "name": "python3"
  },
  "language_info": {
   "codemirror_mode": {
    "name": "ipython",
    "version": 3
   },
   "file_extension": ".py",
   "mimetype": "text/x-python",
   "name": "python",
   "nbconvert_exporter": "python",
   "pygments_lexer": "ipython3",
   "version": "3.12.4"
  }
 },
 "nbformat": 4,
 "nbformat_minor": 5
}
