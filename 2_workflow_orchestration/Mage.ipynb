{
 "cells": [
  {
   "cell_type": "markdown",
   "id": "0afdc4fd-6f9f-41d8-a411-3ba3479a132e",
   "metadata": {},
   "source": [
    "**Mage**\n",
    "* pipeline tool for orchestrating, transforming, and integrating data\n",
    "* project -> pipelines -> blocks -> (load, transform, export)"
   ]
  },
  {
   "cell_type": "markdown",
   "id": "7a4875df-e93b-4108-a6aa-4ed85c9765e1",
   "metadata": {},
   "source": [
    "**Pipelines**\n",
    "* a pipeline is a workflow that executes data operation (ETL -- extracitng, transforming, and loading data from an API)\n",
    "* also called Directed Acyclic Graphs (DAGs)\n",
    "* pipelines contain blocks (sql, python, r) and charts \n",
    "* each pipeline is represented by a YAML file "
   ]
  },
  {
   "cell_type": "markdown",
   "id": "9803e057-6de3-4d97-a47d-126149d85c82",
   "metadata": {},
   "source": [
    "**Blocks**\n",
    "* a block is a file that can be executed independentyly or within a pipeline\n",
    "* will not start runing in a pipeline until all its upstream dependencies are met\n",
    "* reusable, atomic pieces of code\n",
    "* changing one block will change it everyhwere it's used\n",
    "  * detach blocks to separate instances if necessary\n",
    "* imports, decorator, funciton, assertion, returns df"
   ]
  },
  {
   "cell_type": "code",
   "execution_count": null,
   "id": "dfb5456c-31b3-486c-9e05-e574b2e47df1",
   "metadata": {},
   "outputs": [],
   "source": []
  }
 ],
 "metadata": {
  "kernelspec": {
   "display_name": "Python 3 (ipykernel)",
   "language": "python",
   "name": "python3"
  },
  "language_info": {
   "codemirror_mode": {
    "name": "ipython",
    "version": 3
   },
   "file_extension": ".py",
   "mimetype": "text/x-python",
   "name": "python",
   "nbconvert_exporter": "python",
   "pygments_lexer": "ipython3",
   "version": "3.11.7"
  }
 },
 "nbformat": 4,
 "nbformat_minor": 5
}
